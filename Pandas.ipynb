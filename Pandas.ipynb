{
  "nbformat": 4,
  "nbformat_minor": 0,
  "metadata": {
    "colab": {
      "provenance": []
    },
    "kernelspec": {
      "name": "python3",
      "display_name": "Python 3"
    },
    "language_info": {
      "name": "python"
    }
  },
  "cells": [
    {
      "cell_type": "code",
      "execution_count": 5,
      "metadata": {
        "id": "0fpD_AQTPIey"
      },
      "outputs": [],
      "source": [
        "import pandas as pd\n",
        "import numpy as np"
      ]
    },
    {
      "cell_type": "markdown",
      "source": [
        " Creat one dimensional labeled array using pd.Series()"
      ],
      "metadata": {
        "id": "gV-q4VCoQeQI"
      }
    },
    {
      "cell_type": "code",
      "source": [
        "series= pd.Series([10,20,30,40], index=['a','b','c','d'])\n",
        "print(series)"
      ],
      "metadata": {
        "colab": {
          "base_uri": "https://localhost:8080/"
        },
        "id": "JndujtnyPaKZ",
        "outputId": "f0cd7979-8117-45e9-f308-c7f7e1cfbf4f"
      },
      "execution_count": 3,
      "outputs": [
        {
          "output_type": "stream",
          "name": "stdout",
          "text": [
            "a    10\n",
            "b    20\n",
            "c    30\n",
            "d    40\n",
            "dtype: int64\n"
          ]
        }
      ]
    },
    {
      "cell_type": "markdown",
      "source": [
        "Create a DataFrame having 50 rows and 50 columns"
      ],
      "metadata": {
        "id": "MfUZzgmxQjln"
      }
    },
    {
      "cell_type": "code",
      "source": [
        "data = np.random.rand(50,50)\n",
        "columns = [f'col_{i+1}' for i in range(50)]\n",
        "df = pd.DataFrame(data, columns=columns)\n",
        "\n",
        "print(df.head())"
      ],
      "metadata": {
        "colab": {
          "base_uri": "https://localhost:8080/"
        },
        "id": "IOcO-3wlQUDp",
        "outputId": "cbb1e9cf-be87-43b4-9b4d-4398f72a5c08"
      },
      "execution_count": 6,
      "outputs": [
        {
          "output_type": "stream",
          "name": "stdout",
          "text": [
            "      col_1     col_2     col_3     col_4     col_5     col_6     col_7  \\\n",
            "0  0.067210  0.114758  0.118960  0.796689  0.350221  0.896658  0.237866   \n",
            "1  0.747786  0.829865  0.683116  0.230743  0.782638  0.232097  0.899028   \n",
            "2  0.986821  0.358420  0.809554  0.536364  0.011404  0.199907  0.650140   \n",
            "3  0.519497  0.924149  0.532625  0.791110  0.647309  0.379158  0.278477   \n",
            "4  0.883702  0.058341  0.960679  0.627929  0.379983  0.666469  0.693333   \n",
            "\n",
            "      col_8     col_9    col_10  ...    col_41    col_42    col_43    col_44  \\\n",
            "0  0.621036  0.738124  0.678044  ...  0.677977  0.955350  0.601486  0.803331   \n",
            "1  0.534581  0.793297  0.408969  ...  0.736421  0.270004  0.390398  0.159699   \n",
            "2  0.058841  0.624351  0.274865  ...  0.650055  0.895731  0.499814  0.510830   \n",
            "3  0.966437  0.713406  0.093432  ...  0.765605  0.599213  0.795215  0.008643   \n",
            "4  0.945591  0.124560  0.735039  ...  0.157680  0.088502  0.774557  0.024602   \n",
            "\n",
            "     col_45    col_46    col_47    col_48    col_49    col_50  \n",
            "0  0.233074  0.988391  0.420976  0.293832  0.771721  0.380860  \n",
            "1  0.196334  0.537661  0.896424  0.069258  0.473153  0.475797  \n",
            "2  0.427839  0.330669  0.951283  0.319710  0.037448  0.251594  \n",
            "3  0.718013  0.107114  0.470853  0.139810  0.268312  0.067808  \n",
            "4  0.595655  0.924548  0.357672  0.129813  0.036665  0.874304  \n",
            "\n",
            "[5 rows x 50 columns]\n"
          ]
        }
      ]
    },
    {
      "cell_type": "markdown",
      "source": [
        "create a coloumn and add automatic label"
      ],
      "metadata": {
        "id": "5QX-J1i9RpXg"
      }
    },
    {
      "cell_type": "code",
      "source": [
        "df = pd.DataFrame(np.random.rand(50, 50))\n",
        "df[len(df.columns)] = np.random.rand(50)\n",
        "\n",
        "\n",
        "print(df.iloc[:5, -5:])"
      ],
      "metadata": {
        "colab": {
          "base_uri": "https://localhost:8080/"
        },
        "id": "lGSmD0CMRYmf",
        "outputId": "1d8e84f8-b834-41b6-941b-735d893c6fcb"
      },
      "execution_count": 7,
      "outputs": [
        {
          "output_type": "stream",
          "name": "stdout",
          "text": [
            "         46        47        48        49        50\n",
            "0  0.907331  0.534469  0.694643  0.650329  0.345890\n",
            "1  0.116748  0.622422  0.522906  0.991629  0.952006\n",
            "2  0.835856  0.869967  0.268801  0.581812  0.969064\n",
            "3  0.210052  0.592607  0.829265  0.572952  0.356939\n",
            "4  0.827900  0.167056  0.866893  0.983644  0.139499\n"
          ]
        }
      ]
    },
    {
      "cell_type": "markdown",
      "source": [
        "Use and understand df.describe(), df.info().\n",
        " How to access the top 5 rows and last 5 rows of that DataFrame?\n",
        " Show usage of head and tail.\n",
        "\n",
        "\n",
        " How to check the shape of dataframe?\n",
        "\n",
        " Understand the importance of df.to_numpy(), Transposing the dataframe, sort_index(), sort_value()"
      ],
      "metadata": {
        "id": "5EEpnNW8Sip2"
      }
    },
    {
      "cell_type": "code",
      "source": [
        "summary = df.describe()\n",
        "print(summary)"
      ],
      "metadata": {
        "colab": {
          "base_uri": "https://localhost:8080/"
        },
        "id": "7xoFAHBQSBuH",
        "outputId": "393984e1-8e43-4ed5-a1ed-cc7d3b37885e"
      },
      "execution_count": 8,
      "outputs": [
        {
          "output_type": "stream",
          "name": "stdout",
          "text": [
            "              0          1          2          3          4          5   \\\n",
            "count  50.000000  50.000000  50.000000  50.000000  50.000000  50.000000   \n",
            "mean    0.542813   0.522471   0.524437   0.461149   0.509754   0.538541   \n",
            "std     0.302859   0.294854   0.276257   0.296625   0.311414   0.282662   \n",
            "min     0.019547   0.011282   0.006970   0.013327   0.041431   0.006681   \n",
            "25%     0.297664   0.247315   0.295527   0.169476   0.224363   0.325671   \n",
            "50%     0.478610   0.534326   0.503454   0.471379   0.465274   0.543442   \n",
            "75%     0.815251   0.764756   0.768916   0.704444   0.827760   0.781262   \n",
            "max     0.999983   0.998774   0.991672   0.972290   0.989891   0.992224   \n",
            "\n",
            "              6          7          8          9   ...         41         42  \\\n",
            "count  50.000000  50.000000  50.000000  50.000000  ...  50.000000  50.000000   \n",
            "mean    0.507429   0.465797   0.532557   0.507018  ...   0.478050   0.433625   \n",
            "std     0.293994   0.291323   0.260989   0.293451  ...   0.275717   0.269157   \n",
            "min     0.033918   0.013343   0.032670   0.008885  ...   0.027951   0.014377   \n",
            "25%     0.219128   0.225459   0.304196   0.242307  ...   0.248122   0.206925   \n",
            "50%     0.526655   0.482587   0.596136   0.550328  ...   0.445545   0.412996   \n",
            "75%     0.781724   0.671871   0.729427   0.735814  ...   0.729707   0.624253   \n",
            "max     0.977374   0.950458   0.990670   0.968173  ...   0.998776   0.989146   \n",
            "\n",
            "              43         44         45         46         47         48  \\\n",
            "count  50.000000  50.000000  50.000000  50.000000  50.000000  50.000000   \n",
            "mean    0.516255   0.475316   0.469322   0.581319   0.446014   0.490370   \n",
            "std     0.313069   0.286191   0.275098   0.286257   0.281673   0.302314   \n",
            "min     0.009254   0.015599   0.009318   0.019448   0.015474   0.015800   \n",
            "25%     0.226352   0.251488   0.242146   0.342101   0.198132   0.261231   \n",
            "50%     0.539949   0.422075   0.468773   0.615687   0.415624   0.446447   \n",
            "75%     0.792045   0.725719   0.648779   0.840084   0.664145   0.796898   \n",
            "max     0.993396   0.965618   0.993711   0.998728   0.958001   0.991355   \n",
            "\n",
            "              49         50  \n",
            "count  50.000000  50.000000  \n",
            "mean    0.571708   0.505107  \n",
            "std     0.308199   0.315031  \n",
            "min     0.014522   0.035788  \n",
            "25%     0.380184   0.230701  \n",
            "50%     0.610524   0.417263  \n",
            "75%     0.851547   0.849907  \n",
            "max     0.999730   0.997785  \n",
            "\n",
            "[8 rows x 51 columns]\n"
          ]
        }
      ]
    },
    {
      "cell_type": "code",
      "source": [
        "df.info()"
      ],
      "metadata": {
        "colab": {
          "base_uri": "https://localhost:8080/"
        },
        "id": "DWxtTx0ZS3ye",
        "outputId": "2591cd39-6c98-4322-8016-049a66e1292c"
      },
      "execution_count": 9,
      "outputs": [
        {
          "output_type": "stream",
          "name": "stdout",
          "text": [
            "<class 'pandas.core.frame.DataFrame'>\n",
            "RangeIndex: 50 entries, 0 to 49\n",
            "Data columns (total 51 columns):\n",
            " #   Column  Non-Null Count  Dtype  \n",
            "---  ------  --------------  -----  \n",
            " 0   0       50 non-null     float64\n",
            " 1   1       50 non-null     float64\n",
            " 2   2       50 non-null     float64\n",
            " 3   3       50 non-null     float64\n",
            " 4   4       50 non-null     float64\n",
            " 5   5       50 non-null     float64\n",
            " 6   6       50 non-null     float64\n",
            " 7   7       50 non-null     float64\n",
            " 8   8       50 non-null     float64\n",
            " 9   9       50 non-null     float64\n",
            " 10  10      50 non-null     float64\n",
            " 11  11      50 non-null     float64\n",
            " 12  12      50 non-null     float64\n",
            " 13  13      50 non-null     float64\n",
            " 14  14      50 non-null     float64\n",
            " 15  15      50 non-null     float64\n",
            " 16  16      50 non-null     float64\n",
            " 17  17      50 non-null     float64\n",
            " 18  18      50 non-null     float64\n",
            " 19  19      50 non-null     float64\n",
            " 20  20      50 non-null     float64\n",
            " 21  21      50 non-null     float64\n",
            " 22  22      50 non-null     float64\n",
            " 23  23      50 non-null     float64\n",
            " 24  24      50 non-null     float64\n",
            " 25  25      50 non-null     float64\n",
            " 26  26      50 non-null     float64\n",
            " 27  27      50 non-null     float64\n",
            " 28  28      50 non-null     float64\n",
            " 29  29      50 non-null     float64\n",
            " 30  30      50 non-null     float64\n",
            " 31  31      50 non-null     float64\n",
            " 32  32      50 non-null     float64\n",
            " 33  33      50 non-null     float64\n",
            " 34  34      50 non-null     float64\n",
            " 35  35      50 non-null     float64\n",
            " 36  36      50 non-null     float64\n",
            " 37  37      50 non-null     float64\n",
            " 38  38      50 non-null     float64\n",
            " 39  39      50 non-null     float64\n",
            " 40  40      50 non-null     float64\n",
            " 41  41      50 non-null     float64\n",
            " 42  42      50 non-null     float64\n",
            " 43  43      50 non-null     float64\n",
            " 44  44      50 non-null     float64\n",
            " 45  45      50 non-null     float64\n",
            " 46  46      50 non-null     float64\n",
            " 47  47      50 non-null     float64\n",
            " 48  48      50 non-null     float64\n",
            " 49  49      50 non-null     float64\n",
            " 50  50      50 non-null     float64\n",
            "dtypes: float64(51)\n",
            "memory usage: 20.1 KB\n"
          ]
        }
      ]
    },
    {
      "cell_type": "code",
      "source": [
        "df.head()"
      ],
      "metadata": {
        "colab": {
          "base_uri": "https://localhost:8080/",
          "height": 236
        },
        "id": "z_TpeURNTbCF",
        "outputId": "4aa12035-9537-48cc-e2d1-1aca38fdbf9f"
      },
      "execution_count": 14,
      "outputs": [
        {
          "output_type": "execute_result",
          "data": {
            "text/plain": [
              "         0         1         2         3         4         5         6   \\\n",
              "0  0.753069  0.617283  0.447970  0.724455  0.760677  0.913510  0.832913   \n",
              "1  0.705062  0.998774  0.812161  0.871528  0.464059  0.599044  0.486181   \n",
              "2  0.427671  0.770891  0.932274  0.706702  0.891240  0.055249  0.837800   \n",
              "3  0.297322  0.104123  0.471595  0.467355  0.137899  0.732676  0.896686   \n",
              "4  0.457309  0.294550  0.697311  0.074429  0.771505  0.832357  0.501763   \n",
              "\n",
              "         7         8         9   ...        41        42        43        44  \\\n",
              "0  0.906908  0.298301  0.734670  ...  0.457060  0.147013  0.009254  0.202527   \n",
              "1  0.380838  0.627480  0.364476  ...  0.289597  0.629128  0.368978  0.270515   \n",
              "2  0.924749  0.309174  0.099275  ...  0.120960  0.569598  0.047074  0.342677   \n",
              "3  0.071442  0.209048  0.862940  ...  0.363264  0.389916  0.736313  0.848367   \n",
              "4  0.620665  0.302536  0.852498  ...  0.212897  0.408628  0.951773  0.250952   \n",
              "\n",
              "         45        46        47        48        49        50  \n",
              "0  0.470660  0.907331  0.534469  0.694643  0.650329  0.345890  \n",
              "1  0.792834  0.116748  0.622422  0.522906  0.991629  0.952006  \n",
              "2  0.815152  0.835856  0.869967  0.268801  0.581812  0.969064  \n",
              "3  0.450460  0.210052  0.592607  0.829265  0.572952  0.356939  \n",
              "4  0.092259  0.827900  0.167056  0.866893  0.983644  0.139499  \n",
              "\n",
              "[5 rows x 51 columns]"
            ],
            "text/html": [
              "\n",
              "  <div id=\"df-5e70a842-247c-4251-bd67-6bbe3e7ef80e\" class=\"colab-df-container\">\n",
              "    <div>\n",
              "<style scoped>\n",
              "    .dataframe tbody tr th:only-of-type {\n",
              "        vertical-align: middle;\n",
              "    }\n",
              "\n",
              "    .dataframe tbody tr th {\n",
              "        vertical-align: top;\n",
              "    }\n",
              "\n",
              "    .dataframe thead th {\n",
              "        text-align: right;\n",
              "    }\n",
              "</style>\n",
              "<table border=\"1\" class=\"dataframe\">\n",
              "  <thead>\n",
              "    <tr style=\"text-align: right;\">\n",
              "      <th></th>\n",
              "      <th>0</th>\n",
              "      <th>1</th>\n",
              "      <th>2</th>\n",
              "      <th>3</th>\n",
              "      <th>4</th>\n",
              "      <th>5</th>\n",
              "      <th>6</th>\n",
              "      <th>7</th>\n",
              "      <th>8</th>\n",
              "      <th>9</th>\n",
              "      <th>...</th>\n",
              "      <th>41</th>\n",
              "      <th>42</th>\n",
              "      <th>43</th>\n",
              "      <th>44</th>\n",
              "      <th>45</th>\n",
              "      <th>46</th>\n",
              "      <th>47</th>\n",
              "      <th>48</th>\n",
              "      <th>49</th>\n",
              "      <th>50</th>\n",
              "    </tr>\n",
              "  </thead>\n",
              "  <tbody>\n",
              "    <tr>\n",
              "      <th>0</th>\n",
              "      <td>0.753069</td>\n",
              "      <td>0.617283</td>\n",
              "      <td>0.447970</td>\n",
              "      <td>0.724455</td>\n",
              "      <td>0.760677</td>\n",
              "      <td>0.913510</td>\n",
              "      <td>0.832913</td>\n",
              "      <td>0.906908</td>\n",
              "      <td>0.298301</td>\n",
              "      <td>0.734670</td>\n",
              "      <td>...</td>\n",
              "      <td>0.457060</td>\n",
              "      <td>0.147013</td>\n",
              "      <td>0.009254</td>\n",
              "      <td>0.202527</td>\n",
              "      <td>0.470660</td>\n",
              "      <td>0.907331</td>\n",
              "      <td>0.534469</td>\n",
              "      <td>0.694643</td>\n",
              "      <td>0.650329</td>\n",
              "      <td>0.345890</td>\n",
              "    </tr>\n",
              "    <tr>\n",
              "      <th>1</th>\n",
              "      <td>0.705062</td>\n",
              "      <td>0.998774</td>\n",
              "      <td>0.812161</td>\n",
              "      <td>0.871528</td>\n",
              "      <td>0.464059</td>\n",
              "      <td>0.599044</td>\n",
              "      <td>0.486181</td>\n",
              "      <td>0.380838</td>\n",
              "      <td>0.627480</td>\n",
              "      <td>0.364476</td>\n",
              "      <td>...</td>\n",
              "      <td>0.289597</td>\n",
              "      <td>0.629128</td>\n",
              "      <td>0.368978</td>\n",
              "      <td>0.270515</td>\n",
              "      <td>0.792834</td>\n",
              "      <td>0.116748</td>\n",
              "      <td>0.622422</td>\n",
              "      <td>0.522906</td>\n",
              "      <td>0.991629</td>\n",
              "      <td>0.952006</td>\n",
              "    </tr>\n",
              "    <tr>\n",
              "      <th>2</th>\n",
              "      <td>0.427671</td>\n",
              "      <td>0.770891</td>\n",
              "      <td>0.932274</td>\n",
              "      <td>0.706702</td>\n",
              "      <td>0.891240</td>\n",
              "      <td>0.055249</td>\n",
              "      <td>0.837800</td>\n",
              "      <td>0.924749</td>\n",
              "      <td>0.309174</td>\n",
              "      <td>0.099275</td>\n",
              "      <td>...</td>\n",
              "      <td>0.120960</td>\n",
              "      <td>0.569598</td>\n",
              "      <td>0.047074</td>\n",
              "      <td>0.342677</td>\n",
              "      <td>0.815152</td>\n",
              "      <td>0.835856</td>\n",
              "      <td>0.869967</td>\n",
              "      <td>0.268801</td>\n",
              "      <td>0.581812</td>\n",
              "      <td>0.969064</td>\n",
              "    </tr>\n",
              "    <tr>\n",
              "      <th>3</th>\n",
              "      <td>0.297322</td>\n",
              "      <td>0.104123</td>\n",
              "      <td>0.471595</td>\n",
              "      <td>0.467355</td>\n",
              "      <td>0.137899</td>\n",
              "      <td>0.732676</td>\n",
              "      <td>0.896686</td>\n",
              "      <td>0.071442</td>\n",
              "      <td>0.209048</td>\n",
              "      <td>0.862940</td>\n",
              "      <td>...</td>\n",
              "      <td>0.363264</td>\n",
              "      <td>0.389916</td>\n",
              "      <td>0.736313</td>\n",
              "      <td>0.848367</td>\n",
              "      <td>0.450460</td>\n",
              "      <td>0.210052</td>\n",
              "      <td>0.592607</td>\n",
              "      <td>0.829265</td>\n",
              "      <td>0.572952</td>\n",
              "      <td>0.356939</td>\n",
              "    </tr>\n",
              "    <tr>\n",
              "      <th>4</th>\n",
              "      <td>0.457309</td>\n",
              "      <td>0.294550</td>\n",
              "      <td>0.697311</td>\n",
              "      <td>0.074429</td>\n",
              "      <td>0.771505</td>\n",
              "      <td>0.832357</td>\n",
              "      <td>0.501763</td>\n",
              "      <td>0.620665</td>\n",
              "      <td>0.302536</td>\n",
              "      <td>0.852498</td>\n",
              "      <td>...</td>\n",
              "      <td>0.212897</td>\n",
              "      <td>0.408628</td>\n",
              "      <td>0.951773</td>\n",
              "      <td>0.250952</td>\n",
              "      <td>0.092259</td>\n",
              "      <td>0.827900</td>\n",
              "      <td>0.167056</td>\n",
              "      <td>0.866893</td>\n",
              "      <td>0.983644</td>\n",
              "      <td>0.139499</td>\n",
              "    </tr>\n",
              "  </tbody>\n",
              "</table>\n",
              "<p>5 rows × 51 columns</p>\n",
              "</div>\n",
              "    <div class=\"colab-df-buttons\">\n",
              "\n",
              "  <div class=\"colab-df-container\">\n",
              "    <button class=\"colab-df-convert\" onclick=\"convertToInteractive('df-5e70a842-247c-4251-bd67-6bbe3e7ef80e')\"\n",
              "            title=\"Convert this dataframe to an interactive table.\"\n",
              "            style=\"display:none;\">\n",
              "\n",
              "  <svg xmlns=\"http://www.w3.org/2000/svg\" height=\"24px\" viewBox=\"0 -960 960 960\">\n",
              "    <path d=\"M120-120v-720h720v720H120Zm60-500h600v-160H180v160Zm220 220h160v-160H400v160Zm0 220h160v-160H400v160ZM180-400h160v-160H180v160Zm440 0h160v-160H620v160ZM180-180h160v-160H180v160Zm440 0h160v-160H620v160Z\"/>\n",
              "  </svg>\n",
              "    </button>\n",
              "\n",
              "  <style>\n",
              "    .colab-df-container {\n",
              "      display:flex;\n",
              "      gap: 12px;\n",
              "    }\n",
              "\n",
              "    .colab-df-convert {\n",
              "      background-color: #E8F0FE;\n",
              "      border: none;\n",
              "      border-radius: 50%;\n",
              "      cursor: pointer;\n",
              "      display: none;\n",
              "      fill: #1967D2;\n",
              "      height: 32px;\n",
              "      padding: 0 0 0 0;\n",
              "      width: 32px;\n",
              "    }\n",
              "\n",
              "    .colab-df-convert:hover {\n",
              "      background-color: #E2EBFA;\n",
              "      box-shadow: 0px 1px 2px rgba(60, 64, 67, 0.3), 0px 1px 3px 1px rgba(60, 64, 67, 0.15);\n",
              "      fill: #174EA6;\n",
              "    }\n",
              "\n",
              "    .colab-df-buttons div {\n",
              "      margin-bottom: 4px;\n",
              "    }\n",
              "\n",
              "    [theme=dark] .colab-df-convert {\n",
              "      background-color: #3B4455;\n",
              "      fill: #D2E3FC;\n",
              "    }\n",
              "\n",
              "    [theme=dark] .colab-df-convert:hover {\n",
              "      background-color: #434B5C;\n",
              "      box-shadow: 0px 1px 3px 1px rgba(0, 0, 0, 0.15);\n",
              "      filter: drop-shadow(0px 1px 2px rgba(0, 0, 0, 0.3));\n",
              "      fill: #FFFFFF;\n",
              "    }\n",
              "  </style>\n",
              "\n",
              "    <script>\n",
              "      const buttonEl =\n",
              "        document.querySelector('#df-5e70a842-247c-4251-bd67-6bbe3e7ef80e button.colab-df-convert');\n",
              "      buttonEl.style.display =\n",
              "        google.colab.kernel.accessAllowed ? 'block' : 'none';\n",
              "\n",
              "      async function convertToInteractive(key) {\n",
              "        const element = document.querySelector('#df-5e70a842-247c-4251-bd67-6bbe3e7ef80e');\n",
              "        const dataTable =\n",
              "          await google.colab.kernel.invokeFunction('convertToInteractive',\n",
              "                                                    [key], {});\n",
              "        if (!dataTable) return;\n",
              "\n",
              "        const docLinkHtml = 'Like what you see? Visit the ' +\n",
              "          '<a target=\"_blank\" href=https://colab.research.google.com/notebooks/data_table.ipynb>data table notebook</a>'\n",
              "          + ' to learn more about interactive tables.';\n",
              "        element.innerHTML = '';\n",
              "        dataTable['output_type'] = 'display_data';\n",
              "        await google.colab.output.renderOutput(dataTable, element);\n",
              "        const docLink = document.createElement('div');\n",
              "        docLink.innerHTML = docLinkHtml;\n",
              "        element.appendChild(docLink);\n",
              "      }\n",
              "    </script>\n",
              "  </div>\n",
              "\n",
              "\n",
              "    <div id=\"df-76f6a6c9-c30c-4ccb-ae1f-75a5ace530fb\">\n",
              "      <button class=\"colab-df-quickchart\" onclick=\"quickchart('df-76f6a6c9-c30c-4ccb-ae1f-75a5ace530fb')\"\n",
              "                title=\"Suggest charts\"\n",
              "                style=\"display:none;\">\n",
              "\n",
              "<svg xmlns=\"http://www.w3.org/2000/svg\" height=\"24px\"viewBox=\"0 0 24 24\"\n",
              "     width=\"24px\">\n",
              "    <g>\n",
              "        <path d=\"M19 3H5c-1.1 0-2 .9-2 2v14c0 1.1.9 2 2 2h14c1.1 0 2-.9 2-2V5c0-1.1-.9-2-2-2zM9 17H7v-7h2v7zm4 0h-2V7h2v10zm4 0h-2v-4h2v4z\"/>\n",
              "    </g>\n",
              "</svg>\n",
              "      </button>\n",
              "\n",
              "<style>\n",
              "  .colab-df-quickchart {\n",
              "      --bg-color: #E8F0FE;\n",
              "      --fill-color: #1967D2;\n",
              "      --hover-bg-color: #E2EBFA;\n",
              "      --hover-fill-color: #174EA6;\n",
              "      --disabled-fill-color: #AAA;\n",
              "      --disabled-bg-color: #DDD;\n",
              "  }\n",
              "\n",
              "  [theme=dark] .colab-df-quickchart {\n",
              "      --bg-color: #3B4455;\n",
              "      --fill-color: #D2E3FC;\n",
              "      --hover-bg-color: #434B5C;\n",
              "      --hover-fill-color: #FFFFFF;\n",
              "      --disabled-bg-color: #3B4455;\n",
              "      --disabled-fill-color: #666;\n",
              "  }\n",
              "\n",
              "  .colab-df-quickchart {\n",
              "    background-color: var(--bg-color);\n",
              "    border: none;\n",
              "    border-radius: 50%;\n",
              "    cursor: pointer;\n",
              "    display: none;\n",
              "    fill: var(--fill-color);\n",
              "    height: 32px;\n",
              "    padding: 0;\n",
              "    width: 32px;\n",
              "  }\n",
              "\n",
              "  .colab-df-quickchart:hover {\n",
              "    background-color: var(--hover-bg-color);\n",
              "    box-shadow: 0 1px 2px rgba(60, 64, 67, 0.3), 0 1px 3px 1px rgba(60, 64, 67, 0.15);\n",
              "    fill: var(--button-hover-fill-color);\n",
              "  }\n",
              "\n",
              "  .colab-df-quickchart-complete:disabled,\n",
              "  .colab-df-quickchart-complete:disabled:hover {\n",
              "    background-color: var(--disabled-bg-color);\n",
              "    fill: var(--disabled-fill-color);\n",
              "    box-shadow: none;\n",
              "  }\n",
              "\n",
              "  .colab-df-spinner {\n",
              "    border: 2px solid var(--fill-color);\n",
              "    border-color: transparent;\n",
              "    border-bottom-color: var(--fill-color);\n",
              "    animation:\n",
              "      spin 1s steps(1) infinite;\n",
              "  }\n",
              "\n",
              "  @keyframes spin {\n",
              "    0% {\n",
              "      border-color: transparent;\n",
              "      border-bottom-color: var(--fill-color);\n",
              "      border-left-color: var(--fill-color);\n",
              "    }\n",
              "    20% {\n",
              "      border-color: transparent;\n",
              "      border-left-color: var(--fill-color);\n",
              "      border-top-color: var(--fill-color);\n",
              "    }\n",
              "    30% {\n",
              "      border-color: transparent;\n",
              "      border-left-color: var(--fill-color);\n",
              "      border-top-color: var(--fill-color);\n",
              "      border-right-color: var(--fill-color);\n",
              "    }\n",
              "    40% {\n",
              "      border-color: transparent;\n",
              "      border-right-color: var(--fill-color);\n",
              "      border-top-color: var(--fill-color);\n",
              "    }\n",
              "    60% {\n",
              "      border-color: transparent;\n",
              "      border-right-color: var(--fill-color);\n",
              "    }\n",
              "    80% {\n",
              "      border-color: transparent;\n",
              "      border-right-color: var(--fill-color);\n",
              "      border-bottom-color: var(--fill-color);\n",
              "    }\n",
              "    90% {\n",
              "      border-color: transparent;\n",
              "      border-bottom-color: var(--fill-color);\n",
              "    }\n",
              "  }\n",
              "</style>\n",
              "\n",
              "      <script>\n",
              "        async function quickchart(key) {\n",
              "          const quickchartButtonEl =\n",
              "            document.querySelector('#' + key + ' button');\n",
              "          quickchartButtonEl.disabled = true;  // To prevent multiple clicks.\n",
              "          quickchartButtonEl.classList.add('colab-df-spinner');\n",
              "          try {\n",
              "            const charts = await google.colab.kernel.invokeFunction(\n",
              "                'suggestCharts', [key], {});\n",
              "          } catch (error) {\n",
              "            console.error('Error during call to suggestCharts:', error);\n",
              "          }\n",
              "          quickchartButtonEl.classList.remove('colab-df-spinner');\n",
              "          quickchartButtonEl.classList.add('colab-df-quickchart-complete');\n",
              "        }\n",
              "        (() => {\n",
              "          let quickchartButtonEl =\n",
              "            document.querySelector('#df-76f6a6c9-c30c-4ccb-ae1f-75a5ace530fb button');\n",
              "          quickchartButtonEl.style.display =\n",
              "            google.colab.kernel.accessAllowed ? 'block' : 'none';\n",
              "        })();\n",
              "      </script>\n",
              "    </div>\n",
              "\n",
              "    </div>\n",
              "  </div>\n"
            ],
            "application/vnd.google.colaboratory.intrinsic+json": {
              "type": "dataframe",
              "variable_name": "df"
            }
          },
          "metadata": {},
          "execution_count": 14
        }
      ]
    },
    {
      "cell_type": "code",
      "source": [
        "df.tail()"
      ],
      "metadata": {
        "colab": {
          "base_uri": "https://localhost:8080/",
          "height": 236
        },
        "id": "1xDE1FEoTnls",
        "outputId": "ef4bd5c6-d3a5-4fb0-ecbe-792794567cff"
      },
      "execution_count": 13,
      "outputs": [
        {
          "output_type": "execute_result",
          "data": {
            "text/plain": [
              "          0         1         2         3         4         5         6   \\\n",
              "45  0.445768  0.358965  0.447987  0.248354  0.394980  0.132146  0.260675   \n",
              "46  0.279176  0.239117  0.846090  0.065158  0.259571  0.961012  0.096884   \n",
              "47  0.047297  0.443425  0.264195  0.304103  0.831108  0.568171  0.848119   \n",
              "48  0.035194  0.894281  0.090002  0.475404  0.975580  0.477305  0.302773   \n",
              "49  0.494329  0.983938  0.237329  0.707192  0.272021  0.192534  0.137634   \n",
              "\n",
              "          7         8         9   ...        41        42        43        44  \\\n",
              "45  0.471088  0.032670  0.740964  ...  0.255840  0.506544  0.693085  0.015599   \n",
              "46  0.423103  0.705000  0.596062  ...  0.734633  0.787014  0.704261  0.608851   \n",
              "47  0.131645  0.736975  0.648489  ...  0.245550  0.928843  0.789005  0.796181   \n",
              "48  0.917398  0.601821  0.711990  ...  0.714928  0.606774  0.925619  0.725718   \n",
              "49  0.682255  0.183991  0.157202  ...  0.485377  0.268655  0.848033  0.586841   \n",
              "\n",
              "          45        46        47        48        49        50  \n",
              "45  0.100180  0.555243  0.383397  0.547595  0.607139  0.222678  \n",
              "46  0.238807  0.897535  0.275919  0.770030  0.469257  0.860503  \n",
              "47  0.465448  0.283159  0.202017  0.977647  0.388544  0.201378  \n",
              "48  0.541898  0.338971  0.378096  0.304551  0.904096  0.930414  \n",
              "49  0.326266  0.840715  0.681501  0.922757  0.989303  0.252428  \n",
              "\n",
              "[5 rows x 51 columns]"
            ],
            "text/html": [
              "\n",
              "  <div id=\"df-e62c8a5c-252a-4633-bc2e-1f43d4abc6f8\" class=\"colab-df-container\">\n",
              "    <div>\n",
              "<style scoped>\n",
              "    .dataframe tbody tr th:only-of-type {\n",
              "        vertical-align: middle;\n",
              "    }\n",
              "\n",
              "    .dataframe tbody tr th {\n",
              "        vertical-align: top;\n",
              "    }\n",
              "\n",
              "    .dataframe thead th {\n",
              "        text-align: right;\n",
              "    }\n",
              "</style>\n",
              "<table border=\"1\" class=\"dataframe\">\n",
              "  <thead>\n",
              "    <tr style=\"text-align: right;\">\n",
              "      <th></th>\n",
              "      <th>0</th>\n",
              "      <th>1</th>\n",
              "      <th>2</th>\n",
              "      <th>3</th>\n",
              "      <th>4</th>\n",
              "      <th>5</th>\n",
              "      <th>6</th>\n",
              "      <th>7</th>\n",
              "      <th>8</th>\n",
              "      <th>9</th>\n",
              "      <th>...</th>\n",
              "      <th>41</th>\n",
              "      <th>42</th>\n",
              "      <th>43</th>\n",
              "      <th>44</th>\n",
              "      <th>45</th>\n",
              "      <th>46</th>\n",
              "      <th>47</th>\n",
              "      <th>48</th>\n",
              "      <th>49</th>\n",
              "      <th>50</th>\n",
              "    </tr>\n",
              "  </thead>\n",
              "  <tbody>\n",
              "    <tr>\n",
              "      <th>45</th>\n",
              "      <td>0.445768</td>\n",
              "      <td>0.358965</td>\n",
              "      <td>0.447987</td>\n",
              "      <td>0.248354</td>\n",
              "      <td>0.394980</td>\n",
              "      <td>0.132146</td>\n",
              "      <td>0.260675</td>\n",
              "      <td>0.471088</td>\n",
              "      <td>0.032670</td>\n",
              "      <td>0.740964</td>\n",
              "      <td>...</td>\n",
              "      <td>0.255840</td>\n",
              "      <td>0.506544</td>\n",
              "      <td>0.693085</td>\n",
              "      <td>0.015599</td>\n",
              "      <td>0.100180</td>\n",
              "      <td>0.555243</td>\n",
              "      <td>0.383397</td>\n",
              "      <td>0.547595</td>\n",
              "      <td>0.607139</td>\n",
              "      <td>0.222678</td>\n",
              "    </tr>\n",
              "    <tr>\n",
              "      <th>46</th>\n",
              "      <td>0.279176</td>\n",
              "      <td>0.239117</td>\n",
              "      <td>0.846090</td>\n",
              "      <td>0.065158</td>\n",
              "      <td>0.259571</td>\n",
              "      <td>0.961012</td>\n",
              "      <td>0.096884</td>\n",
              "      <td>0.423103</td>\n",
              "      <td>0.705000</td>\n",
              "      <td>0.596062</td>\n",
              "      <td>...</td>\n",
              "      <td>0.734633</td>\n",
              "      <td>0.787014</td>\n",
              "      <td>0.704261</td>\n",
              "      <td>0.608851</td>\n",
              "      <td>0.238807</td>\n",
              "      <td>0.897535</td>\n",
              "      <td>0.275919</td>\n",
              "      <td>0.770030</td>\n",
              "      <td>0.469257</td>\n",
              "      <td>0.860503</td>\n",
              "    </tr>\n",
              "    <tr>\n",
              "      <th>47</th>\n",
              "      <td>0.047297</td>\n",
              "      <td>0.443425</td>\n",
              "      <td>0.264195</td>\n",
              "      <td>0.304103</td>\n",
              "      <td>0.831108</td>\n",
              "      <td>0.568171</td>\n",
              "      <td>0.848119</td>\n",
              "      <td>0.131645</td>\n",
              "      <td>0.736975</td>\n",
              "      <td>0.648489</td>\n",
              "      <td>...</td>\n",
              "      <td>0.245550</td>\n",
              "      <td>0.928843</td>\n",
              "      <td>0.789005</td>\n",
              "      <td>0.796181</td>\n",
              "      <td>0.465448</td>\n",
              "      <td>0.283159</td>\n",
              "      <td>0.202017</td>\n",
              "      <td>0.977647</td>\n",
              "      <td>0.388544</td>\n",
              "      <td>0.201378</td>\n",
              "    </tr>\n",
              "    <tr>\n",
              "      <th>48</th>\n",
              "      <td>0.035194</td>\n",
              "      <td>0.894281</td>\n",
              "      <td>0.090002</td>\n",
              "      <td>0.475404</td>\n",
              "      <td>0.975580</td>\n",
              "      <td>0.477305</td>\n",
              "      <td>0.302773</td>\n",
              "      <td>0.917398</td>\n",
              "      <td>0.601821</td>\n",
              "      <td>0.711990</td>\n",
              "      <td>...</td>\n",
              "      <td>0.714928</td>\n",
              "      <td>0.606774</td>\n",
              "      <td>0.925619</td>\n",
              "      <td>0.725718</td>\n",
              "      <td>0.541898</td>\n",
              "      <td>0.338971</td>\n",
              "      <td>0.378096</td>\n",
              "      <td>0.304551</td>\n",
              "      <td>0.904096</td>\n",
              "      <td>0.930414</td>\n",
              "    </tr>\n",
              "    <tr>\n",
              "      <th>49</th>\n",
              "      <td>0.494329</td>\n",
              "      <td>0.983938</td>\n",
              "      <td>0.237329</td>\n",
              "      <td>0.707192</td>\n",
              "      <td>0.272021</td>\n",
              "      <td>0.192534</td>\n",
              "      <td>0.137634</td>\n",
              "      <td>0.682255</td>\n",
              "      <td>0.183991</td>\n",
              "      <td>0.157202</td>\n",
              "      <td>...</td>\n",
              "      <td>0.485377</td>\n",
              "      <td>0.268655</td>\n",
              "      <td>0.848033</td>\n",
              "      <td>0.586841</td>\n",
              "      <td>0.326266</td>\n",
              "      <td>0.840715</td>\n",
              "      <td>0.681501</td>\n",
              "      <td>0.922757</td>\n",
              "      <td>0.989303</td>\n",
              "      <td>0.252428</td>\n",
              "    </tr>\n",
              "  </tbody>\n",
              "</table>\n",
              "<p>5 rows × 51 columns</p>\n",
              "</div>\n",
              "    <div class=\"colab-df-buttons\">\n",
              "\n",
              "  <div class=\"colab-df-container\">\n",
              "    <button class=\"colab-df-convert\" onclick=\"convertToInteractive('df-e62c8a5c-252a-4633-bc2e-1f43d4abc6f8')\"\n",
              "            title=\"Convert this dataframe to an interactive table.\"\n",
              "            style=\"display:none;\">\n",
              "\n",
              "  <svg xmlns=\"http://www.w3.org/2000/svg\" height=\"24px\" viewBox=\"0 -960 960 960\">\n",
              "    <path d=\"M120-120v-720h720v720H120Zm60-500h600v-160H180v160Zm220 220h160v-160H400v160Zm0 220h160v-160H400v160ZM180-400h160v-160H180v160Zm440 0h160v-160H620v160ZM180-180h160v-160H180v160Zm440 0h160v-160H620v160Z\"/>\n",
              "  </svg>\n",
              "    </button>\n",
              "\n",
              "  <style>\n",
              "    .colab-df-container {\n",
              "      display:flex;\n",
              "      gap: 12px;\n",
              "    }\n",
              "\n",
              "    .colab-df-convert {\n",
              "      background-color: #E8F0FE;\n",
              "      border: none;\n",
              "      border-radius: 50%;\n",
              "      cursor: pointer;\n",
              "      display: none;\n",
              "      fill: #1967D2;\n",
              "      height: 32px;\n",
              "      padding: 0 0 0 0;\n",
              "      width: 32px;\n",
              "    }\n",
              "\n",
              "    .colab-df-convert:hover {\n",
              "      background-color: #E2EBFA;\n",
              "      box-shadow: 0px 1px 2px rgba(60, 64, 67, 0.3), 0px 1px 3px 1px rgba(60, 64, 67, 0.15);\n",
              "      fill: #174EA6;\n",
              "    }\n",
              "\n",
              "    .colab-df-buttons div {\n",
              "      margin-bottom: 4px;\n",
              "    }\n",
              "\n",
              "    [theme=dark] .colab-df-convert {\n",
              "      background-color: #3B4455;\n",
              "      fill: #D2E3FC;\n",
              "    }\n",
              "\n",
              "    [theme=dark] .colab-df-convert:hover {\n",
              "      background-color: #434B5C;\n",
              "      box-shadow: 0px 1px 3px 1px rgba(0, 0, 0, 0.15);\n",
              "      filter: drop-shadow(0px 1px 2px rgba(0, 0, 0, 0.3));\n",
              "      fill: #FFFFFF;\n",
              "    }\n",
              "  </style>\n",
              "\n",
              "    <script>\n",
              "      const buttonEl =\n",
              "        document.querySelector('#df-e62c8a5c-252a-4633-bc2e-1f43d4abc6f8 button.colab-df-convert');\n",
              "      buttonEl.style.display =\n",
              "        google.colab.kernel.accessAllowed ? 'block' : 'none';\n",
              "\n",
              "      async function convertToInteractive(key) {\n",
              "        const element = document.querySelector('#df-e62c8a5c-252a-4633-bc2e-1f43d4abc6f8');\n",
              "        const dataTable =\n",
              "          await google.colab.kernel.invokeFunction('convertToInteractive',\n",
              "                                                    [key], {});\n",
              "        if (!dataTable) return;\n",
              "\n",
              "        const docLinkHtml = 'Like what you see? Visit the ' +\n",
              "          '<a target=\"_blank\" href=https://colab.research.google.com/notebooks/data_table.ipynb>data table notebook</a>'\n",
              "          + ' to learn more about interactive tables.';\n",
              "        element.innerHTML = '';\n",
              "        dataTable['output_type'] = 'display_data';\n",
              "        await google.colab.output.renderOutput(dataTable, element);\n",
              "        const docLink = document.createElement('div');\n",
              "        docLink.innerHTML = docLinkHtml;\n",
              "        element.appendChild(docLink);\n",
              "      }\n",
              "    </script>\n",
              "  </div>\n",
              "\n",
              "\n",
              "    <div id=\"df-37d467d2-c77d-4e57-8d97-ab27fc09e8d4\">\n",
              "      <button class=\"colab-df-quickchart\" onclick=\"quickchart('df-37d467d2-c77d-4e57-8d97-ab27fc09e8d4')\"\n",
              "                title=\"Suggest charts\"\n",
              "                style=\"display:none;\">\n",
              "\n",
              "<svg xmlns=\"http://www.w3.org/2000/svg\" height=\"24px\"viewBox=\"0 0 24 24\"\n",
              "     width=\"24px\">\n",
              "    <g>\n",
              "        <path d=\"M19 3H5c-1.1 0-2 .9-2 2v14c0 1.1.9 2 2 2h14c1.1 0 2-.9 2-2V5c0-1.1-.9-2-2-2zM9 17H7v-7h2v7zm4 0h-2V7h2v10zm4 0h-2v-4h2v4z\"/>\n",
              "    </g>\n",
              "</svg>\n",
              "      </button>\n",
              "\n",
              "<style>\n",
              "  .colab-df-quickchart {\n",
              "      --bg-color: #E8F0FE;\n",
              "      --fill-color: #1967D2;\n",
              "      --hover-bg-color: #E2EBFA;\n",
              "      --hover-fill-color: #174EA6;\n",
              "      --disabled-fill-color: #AAA;\n",
              "      --disabled-bg-color: #DDD;\n",
              "  }\n",
              "\n",
              "  [theme=dark] .colab-df-quickchart {\n",
              "      --bg-color: #3B4455;\n",
              "      --fill-color: #D2E3FC;\n",
              "      --hover-bg-color: #434B5C;\n",
              "      --hover-fill-color: #FFFFFF;\n",
              "      --disabled-bg-color: #3B4455;\n",
              "      --disabled-fill-color: #666;\n",
              "  }\n",
              "\n",
              "  .colab-df-quickchart {\n",
              "    background-color: var(--bg-color);\n",
              "    border: none;\n",
              "    border-radius: 50%;\n",
              "    cursor: pointer;\n",
              "    display: none;\n",
              "    fill: var(--fill-color);\n",
              "    height: 32px;\n",
              "    padding: 0;\n",
              "    width: 32px;\n",
              "  }\n",
              "\n",
              "  .colab-df-quickchart:hover {\n",
              "    background-color: var(--hover-bg-color);\n",
              "    box-shadow: 0 1px 2px rgba(60, 64, 67, 0.3), 0 1px 3px 1px rgba(60, 64, 67, 0.15);\n",
              "    fill: var(--button-hover-fill-color);\n",
              "  }\n",
              "\n",
              "  .colab-df-quickchart-complete:disabled,\n",
              "  .colab-df-quickchart-complete:disabled:hover {\n",
              "    background-color: var(--disabled-bg-color);\n",
              "    fill: var(--disabled-fill-color);\n",
              "    box-shadow: none;\n",
              "  }\n",
              "\n",
              "  .colab-df-spinner {\n",
              "    border: 2px solid var(--fill-color);\n",
              "    border-color: transparent;\n",
              "    border-bottom-color: var(--fill-color);\n",
              "    animation:\n",
              "      spin 1s steps(1) infinite;\n",
              "  }\n",
              "\n",
              "  @keyframes spin {\n",
              "    0% {\n",
              "      border-color: transparent;\n",
              "      border-bottom-color: var(--fill-color);\n",
              "      border-left-color: var(--fill-color);\n",
              "    }\n",
              "    20% {\n",
              "      border-color: transparent;\n",
              "      border-left-color: var(--fill-color);\n",
              "      border-top-color: var(--fill-color);\n",
              "    }\n",
              "    30% {\n",
              "      border-color: transparent;\n",
              "      border-left-color: var(--fill-color);\n",
              "      border-top-color: var(--fill-color);\n",
              "      border-right-color: var(--fill-color);\n",
              "    }\n",
              "    40% {\n",
              "      border-color: transparent;\n",
              "      border-right-color: var(--fill-color);\n",
              "      border-top-color: var(--fill-color);\n",
              "    }\n",
              "    60% {\n",
              "      border-color: transparent;\n",
              "      border-right-color: var(--fill-color);\n",
              "    }\n",
              "    80% {\n",
              "      border-color: transparent;\n",
              "      border-right-color: var(--fill-color);\n",
              "      border-bottom-color: var(--fill-color);\n",
              "    }\n",
              "    90% {\n",
              "      border-color: transparent;\n",
              "      border-bottom-color: var(--fill-color);\n",
              "    }\n",
              "  }\n",
              "</style>\n",
              "\n",
              "      <script>\n",
              "        async function quickchart(key) {\n",
              "          const quickchartButtonEl =\n",
              "            document.querySelector('#' + key + ' button');\n",
              "          quickchartButtonEl.disabled = true;  // To prevent multiple clicks.\n",
              "          quickchartButtonEl.classList.add('colab-df-spinner');\n",
              "          try {\n",
              "            const charts = await google.colab.kernel.invokeFunction(\n",
              "                'suggestCharts', [key], {});\n",
              "          } catch (error) {\n",
              "            console.error('Error during call to suggestCharts:', error);\n",
              "          }\n",
              "          quickchartButtonEl.classList.remove('colab-df-spinner');\n",
              "          quickchartButtonEl.classList.add('colab-df-quickchart-complete');\n",
              "        }\n",
              "        (() => {\n",
              "          let quickchartButtonEl =\n",
              "            document.querySelector('#df-37d467d2-c77d-4e57-8d97-ab27fc09e8d4 button');\n",
              "          quickchartButtonEl.style.display =\n",
              "            google.colab.kernel.accessAllowed ? 'block' : 'none';\n",
              "        })();\n",
              "      </script>\n",
              "    </div>\n",
              "\n",
              "    </div>\n",
              "  </div>\n"
            ],
            "application/vnd.google.colaboratory.intrinsic+json": {
              "type": "dataframe"
            }
          },
          "metadata": {},
          "execution_count": 13
        }
      ]
    },
    {
      "cell_type": "code",
      "source": [
        "# Check the shape\n",
        "print(df.shape)"
      ],
      "metadata": {
        "colab": {
          "base_uri": "https://localhost:8080/"
        },
        "id": "jJRc-imwT89t",
        "outputId": "a29fafa7-1b48-40b0-9e29-28b4116e1be0"
      },
      "execution_count": 15,
      "outputs": [
        {
          "output_type": "stream",
          "name": "stdout",
          "text": [
            "(50, 51)\n"
          ]
        }
      ]
    },
    {
      "cell_type": "code",
      "source": [
        "df.to_numpy()"
      ],
      "metadata": {
        "colab": {
          "base_uri": "https://localhost:8080/"
        },
        "id": "z6LakIweUm2z",
        "outputId": "f058a832-f25a-432e-ba35-e61b82acd448"
      },
      "execution_count": 16,
      "outputs": [
        {
          "output_type": "execute_result",
          "data": {
            "text/plain": [
              "array([[0.75306871, 0.6172828 , 0.44796978, ..., 0.69464307, 0.65032853,\n",
              "        0.3458898 ],\n",
              "       [0.70506179, 0.99877418, 0.81216111, ..., 0.5229063 , 0.99162935,\n",
              "        0.95200637],\n",
              "       [0.42767115, 0.77089098, 0.93227355, ..., 0.2688012 , 0.58181233,\n",
              "        0.96906388],\n",
              "       ...,\n",
              "       [0.04729678, 0.44342539, 0.26419451, ..., 0.97764697, 0.38854366,\n",
              "        0.20137789],\n",
              "       [0.03519397, 0.89428117, 0.09000215, ..., 0.30455074, 0.9040958 ,\n",
              "        0.93041389],\n",
              "       [0.49432905, 0.98393837, 0.23732943, ..., 0.92275739, 0.98930255,\n",
              "        0.25242773]])"
            ]
          },
          "metadata": {},
          "execution_count": 16
        }
      ]
    },
    {
      "cell_type": "code",
      "source": [
        "df = pd.DataFrame({\n",
        "    'A': [1, 2, 3],\n",
        "    'B': [4, 5, 6]\n",
        "})\n",
        "\n",
        "array = df.to_numpy()\n",
        "print(array)"
      ],
      "metadata": {
        "colab": {
          "base_uri": "https://localhost:8080/"
        },
        "id": "bTd6I7nWVPj1",
        "outputId": "3efef431-b770-43c6-86c4-e50c537ec789"
      },
      "execution_count": 17,
      "outputs": [
        {
          "output_type": "stream",
          "name": "stdout",
          "text": [
            "[[1 4]\n",
            " [2 5]\n",
            " [3 6]]\n"
          ]
        }
      ]
    },
    {
      "cell_type": "code",
      "source": [
        "print(df.T)"
      ],
      "metadata": {
        "colab": {
          "base_uri": "https://localhost:8080/"
        },
        "id": "sAnSMeczVUUb",
        "outputId": "4a902233-3835-4371-ec3f-c958b6ad0f78"
      },
      "execution_count": 18,
      "outputs": [
        {
          "output_type": "stream",
          "name": "stdout",
          "text": [
            "   0  1  2\n",
            "A  1  2  3\n",
            "B  4  5  6\n"
          ]
        }
      ]
    },
    {
      "cell_type": "code",
      "source": [
        "df = pd.DataFrame({\n",
        "    'B': [3, 1, 2],\n",
        "    'A': [6, 4, 5]\n",
        "}, index=[2, 0, 1])\n",
        "\n",
        "print(\"Before sorting:\")\n",
        "print(df)\n",
        "\n",
        "print(\"\\nAfter sorting by index:\")\n",
        "print(df.sort_index())"
      ],
      "metadata": {
        "colab": {
          "base_uri": "https://localhost:8080/"
        },
        "id": "yPd43yKJVZrz",
        "outputId": "ad0fb87e-9446-400c-a421-e462467c4e10"
      },
      "execution_count": 21,
      "outputs": [
        {
          "output_type": "stream",
          "name": "stdout",
          "text": [
            "Before sorting:\n",
            "   B  A\n",
            "2  3  6\n",
            "0  1  4\n",
            "1  2  5\n",
            "\n",
            "After sorting by index:\n",
            "   B  A\n",
            "0  1  4\n",
            "1  2  5\n",
            "2  3  6\n"
          ]
        }
      ]
    },
    {
      "cell_type": "code",
      "source": [
        "print(df.sort_values(by='B'))"
      ],
      "metadata": {
        "colab": {
          "base_uri": "https://localhost:8080/"
        },
        "id": "c09WrDjsVq17",
        "outputId": "ac4cb0be-7fca-4b5c-8d4d-f17b68acf6de"
      },
      "execution_count": 22,
      "outputs": [
        {
          "output_type": "stream",
          "name": "stdout",
          "text": [
            "   B  A\n",
            "0  1  4\n",
            "1  2  5\n",
            "2  3  6\n"
          ]
        }
      ]
    },
    {
      "cell_type": "markdown",
      "source": [
        "**Show the usage of loc and iloc on df2 .\n",
        "Create  a  new dataframe df2 with indexes.**"
      ],
      "metadata": {
        "id": "rvFb1f8vWFkr"
      }
    },
    {
      "cell_type": "code",
      "source": [
        "data = {\n",
        "    'Name': ['Khilav', 'Devanshu', 'Nitya', 'Anshuman', 'Harsh'],\n",
        "    'Age': [24, 27, 22, 32, 29],\n",
        "    'City': ['Nadiad', 'Ahmedabad', 'Baroda', 'Surat', 'Rajkot']\n",
        "}\n",
        "\n",
        "df2 = pd.DataFrame(data, index=['a', 'b', 'c', 'd', 'e'])\n",
        "print(df2)"
      ],
      "metadata": {
        "colab": {
          "base_uri": "https://localhost:8080/"
        },
        "id": "8TmmxVidV7TS",
        "outputId": "db0f1fc3-8d5c-4958-832b-c862deac289b"
      },
      "execution_count": 23,
      "outputs": [
        {
          "output_type": "stream",
          "name": "stdout",
          "text": [
            "       Name  Age       City\n",
            "a    Khilav   24     Nadiad\n",
            "b  Devanshu   27  Ahmedabad\n",
            "c     Nitya   22     Baroda\n",
            "d  Anshuman   32      Surat\n",
            "e     Harsh   29     Rajkot\n"
          ]
        }
      ]
    },
    {
      "cell_type": "code",
      "source": [
        "print(df2.loc[['a', 'e'], 'Age'])"
      ],
      "metadata": {
        "colab": {
          "base_uri": "https://localhost:8080/"
        },
        "id": "hiAitsvsWvBT",
        "outputId": "86b30971-80fd-4eb5-8ac2-8fd22ceab2ea"
      },
      "execution_count": 24,
      "outputs": [
        {
          "output_type": "stream",
          "name": "stdout",
          "text": [
            "a    24\n",
            "e    29\n",
            "Name: Age, dtype: int64\n"
          ]
        }
      ]
    },
    {
      "cell_type": "code",
      "source": [
        "print(df2.iloc[:3, :2])"
      ],
      "metadata": {
        "colab": {
          "base_uri": "https://localhost:8080/"
        },
        "id": "A2EOvOyyW4JS",
        "outputId": "37ccb47b-8e90-44df-ab07-bb004433d61d"
      },
      "execution_count": 25,
      "outputs": [
        {
          "output_type": "stream",
          "name": "stdout",
          "text": [
            "       Name  Age\n",
            "a    Khilav   24\n",
            "b  Devanshu   27\n",
            "c     Nitya   22\n"
          ]
        }
      ]
    },
    {
      "cell_type": "markdown",
      "source": [
        "How do you handle null or missing values in Dataframe?\n",
        "dropna, fillna, isna\n",
        "\n",
        "Show usage of df.duplicated(), df.drop_duplicates()"
      ],
      "metadata": {
        "id": "CjdZEJi0Xas6"
      }
    },
    {
      "cell_type": "code",
      "source": [
        "data = {'A': [1, 2, np.nan, 4], 'B': [np.nan, 2, 3, 4]}\n",
        "df = pd.DataFrame(data)\n",
        "\n",
        "print(df.isna())#true if it is NaN"
      ],
      "metadata": {
        "colab": {
          "base_uri": "https://localhost:8080/"
        },
        "id": "illQfvu3W_jS",
        "outputId": "ef98fe72-51c8-4140-8a5e-5d93f22dc90d"
      },
      "execution_count": 26,
      "outputs": [
        {
          "output_type": "stream",
          "name": "stdout",
          "text": [
            "       A      B\n",
            "0  False   True\n",
            "1  False  False\n",
            "2   True  False\n",
            "3  False  False\n"
          ]
        }
      ]
    },
    {
      "cell_type": "code",
      "source": [
        "print(df.dropna())  # Drops rows where any NaN exists"
      ],
      "metadata": {
        "colab": {
          "base_uri": "https://localhost:8080/"
        },
        "id": "jESFCp1SYF8i",
        "outputId": "e62348e9-9e94-4d6a-bbdd-e34fbcb0d1f4"
      },
      "execution_count": 27,
      "outputs": [
        {
          "output_type": "stream",
          "name": "stdout",
          "text": [
            "     A    B\n",
            "1  2.0  2.0\n",
            "3  4.0  4.0\n"
          ]
        }
      ]
    },
    {
      "cell_type": "code",
      "source": [
        "print(df.fillna(0))  # Replaces NaN with 0"
      ],
      "metadata": {
        "colab": {
          "base_uri": "https://localhost:8080/"
        },
        "id": "lu5L240NYPF5",
        "outputId": "faea6ab6-2280-44c8-ff51-157de5271619"
      },
      "execution_count": 28,
      "outputs": [
        {
          "output_type": "stream",
          "name": "stdout",
          "text": [
            "     A    B\n",
            "0  1.0  0.0\n",
            "1  2.0  2.0\n",
            "2  0.0  3.0\n",
            "3  4.0  4.0\n"
          ]
        }
      ]
    },
    {
      "cell_type": "code",
      "source": [
        "data = {'A': [1, 2, 2, 4], 'B': [5, 6, 6, 8]}\n",
        "df_dup = pd.DataFrame(data)\n",
        "\n",
        "print(df_dup.duplicated())"
      ],
      "metadata": {
        "colab": {
          "base_uri": "https://localhost:8080/"
        },
        "id": "lyzenn_BYdNR",
        "outputId": "1b378f8b-e2c0-49d5-c74c-0307b83f3ef8"
      },
      "execution_count": 30,
      "outputs": [
        {
          "output_type": "stream",
          "name": "stdout",
          "text": [
            "0    False\n",
            "1    False\n",
            "2     True\n",
            "3    False\n",
            "dtype: bool\n"
          ]
        }
      ]
    },
    {
      "cell_type": "code",
      "source": [
        "print(df_dup.drop_duplicates())"
      ],
      "metadata": {
        "colab": {
          "base_uri": "https://localhost:8080/"
        },
        "id": "KQg5laoPYkr4",
        "outputId": "4937aa62-d274-4d05-b957-b071b6da24bc"
      },
      "execution_count": 32,
      "outputs": [
        {
          "output_type": "stream",
          "name": "stdout",
          "text": [
            "   A  B\n",
            "0  1  5\n",
            "1  2  6\n",
            "3  4  8\n"
          ]
        }
      ]
    },
    {
      "cell_type": "markdown",
      "source": [
        "How to apply one-hot encoding in Pandas? show with example.?"
      ],
      "metadata": {
        "id": "aU7pdAQMZGMw"
      }
    },
    {
      "cell_type": "code",
      "source": [
        "data = {\n",
        "    'Color': ['Red', 'Green', 'Blue', 'Green', 'Red']\n",
        "}\n",
        "\n",
        "df = pd.DataFrame(data)\n",
        "print(df)"
      ],
      "metadata": {
        "colab": {
          "base_uri": "https://localhost:8080/"
        },
        "id": "ZOR8QwhEY-tA",
        "outputId": "a14b7435-8cbb-41ab-d38d-f7a988919cfe"
      },
      "execution_count": 33,
      "outputs": [
        {
          "output_type": "stream",
          "name": "stdout",
          "text": [
            "   Color\n",
            "0    Red\n",
            "1  Green\n",
            "2   Blue\n",
            "3  Green\n",
            "4    Red\n"
          ]
        }
      ]
    },
    {
      "cell_type": "code",
      "source": [
        "encoded_df = pd.get_dummies(df, columns=['Color'])\n",
        "print(encoded_df)"
      ],
      "metadata": {
        "colab": {
          "base_uri": "https://localhost:8080/"
        },
        "id": "mpDB0eNuZehw",
        "outputId": "2036cb4c-740b-4642-d3b5-1cbcca24da9d"
      },
      "execution_count": 34,
      "outputs": [
        {
          "output_type": "stream",
          "name": "stdout",
          "text": [
            "   Color_Blue  Color_Green  Color_Red\n",
            "0       False        False       True\n",
            "1       False         True      False\n",
            "2        True        False      False\n",
            "3       False         True      False\n",
            "4       False        False       True\n"
          ]
        }
      ]
    },
    {
      "cell_type": "markdown",
      "source": [
        "make Selection of rows where df.A is greater than 0. (Boolean indexing)"
      ],
      "metadata": {
        "id": "hVylJ7iGZ4uQ"
      }
    },
    {
      "cell_type": "code",
      "source": [
        "df = pd.DataFrame({\n",
        "    'A': [1, -2, 3, 0, -1, 5],\n",
        "    'B': ['x', 'y', 'z', 'w', 'v', 'u']\n",
        "})\n",
        "\n",
        "# Select rows where column 'A' > 0\n",
        "filtered_df = df[df['A'] > 0]\n",
        "\n",
        "print(filtered_df)"
      ],
      "metadata": {
        "colab": {
          "base_uri": "https://localhost:8080/"
        },
        "id": "PED4UgzPZvF4",
        "outputId": "5efdb331-3953-42a6-df51-ec9edb5dc23f"
      },
      "execution_count": 35,
      "outputs": [
        {
          "output_type": "stream",
          "name": "stdout",
          "text": [
            "   A  B\n",
            "0  1  x\n",
            "2  3  z\n",
            "5  5  u\n"
          ]
        }
      ]
    },
    {
      "cell_type": "markdown",
      "source": [
        "Show Importance of concat.\n",
        "\n",
        "show importance of df.corr()"
      ],
      "metadata": {
        "id": "_zzhexi_aSXA"
      }
    },
    {
      "cell_type": "code",
      "source": [
        "df1 = pd.DataFrame({'ID': [1, 2], 'Name': ['Alice', 'Bob']})\n",
        "df2 = pd.DataFrame({'ID': [3, 4], 'Name': ['Charlie', 'David']})\n",
        "\n",
        "# Concatenate vertically (row-wise)\n",
        "result = pd.concat([df1, df2])\n",
        "print(result)"
      ],
      "metadata": {
        "colab": {
          "base_uri": "https://localhost:8080/"
        },
        "id": "48SUBdP3aMwH",
        "outputId": "2f7b0c45-fcb3-4d7d-f935-4d0ea74e8969"
      },
      "execution_count": 36,
      "outputs": [
        {
          "output_type": "stream",
          "name": "stdout",
          "text": [
            "   ID     Name\n",
            "0   1    Alice\n",
            "1   2      Bob\n",
            "0   3  Charlie\n",
            "1   4    David\n"
          ]
        }
      ]
    },
    {
      "cell_type": "code",
      "source": [
        "df = pd.DataFrame({\n",
        "    'Math': [80, 90, 85, 70],\n",
        "    'Science': [78, 95, 82, 65],\n",
        "    'English': [60, 65, 70, 72]\n",
        "})\n",
        "\n",
        "correlation_matrix = df.corr()\n",
        "print(correlation_matrix)\n"
      ],
      "metadata": {
        "colab": {
          "base_uri": "https://localhost:8080/"
        },
        "id": "uVzjrofTauhv",
        "outputId": "62ba8e47-c7da-43c2-fa22-ad92f69a29c6"
      },
      "execution_count": 37,
      "outputs": [
        {
          "output_type": "stream",
          "name": "stdout",
          "text": [
            "             Math   Science   English\n",
            "Math     1.000000  0.979388 -0.390184\n",
            "Science  0.979388  1.000000 -0.426434\n",
            "English -0.390184 -0.426434  1.000000\n"
          ]
        }
      ]
    },
    {
      "cell_type": "code",
      "source": [],
      "metadata": {
        "id": "T377T4GSa6kW"
      },
      "execution_count": null,
      "outputs": []
    }
  ]
}